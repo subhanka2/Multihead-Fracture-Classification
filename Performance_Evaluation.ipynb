{
 "cells": [
  {
   "cell_type": "code",
   "execution_count": 1,
   "id": "b4584fdf",
   "metadata": {},
   "outputs": [],
   "source": [
    "import sys  \n",
    "import warnings\n",
    "sys.path.insert(1, 'utils')\n",
    "warnings.filterwarnings(\"ignore\")\n",
    "from performance_confidence_metrics import *\n",
    "from delong_metrics import *\n",
    "from optimal_threshold import _threshold_finder, print_measures\n",
    "import pandas as pd\n",
    "import matplotlib.pyplot as plt\n",
    "from sklearn import metrics\n",
    "from sklearn.metrics import roc_curve, roc_auc_score, precision_recall_curve, confusion_matrix\n",
    "import os\n",
    "from tqdm import tqdm"
   ]
  },
  {
   "cell_type": "code",
   "execution_count": 2,
   "id": "de553759",
   "metadata": {},
   "outputs": [],
   "source": [
    "internal_df = pd.read_csv('Dataset/Internal/Internal_final.csv')\n",
    "erasmus_df = pd.read_csv('Dataset/External/Erasmus_Final_CSV.csv')\n",
    "frac_atlas = pd.read_csv('Dataset/Open-source/frac_atlas_results.csv')\n",
    "paediatric_dataset = pd.read_csv('Dataset/Open-source/paediatric_results.csv')"
   ]
  },
  {
   "cell_type": "code",
   "execution_count": 3,
   "id": "0f140175",
   "metadata": {},
   "outputs": [
    {
     "name": "stderr",
     "output_type": "stream",
     "text": [
      "100%|█████████████████████████████████████████████████████████████████████████████████████████████████████████████████████████████████████████████████████████████████████████| 5/5 [00:00<00:00, 11.58it/s]\n"
     ]
    }
   ],
   "source": [
    "import pandas as pd\n",
    "body_parts = [\n",
    "    'Pelvis', 'Hip', 'Femur' , 'Fibula and Tibia', 'Wrist'\n",
    "]\n",
    "\n",
    "def calculate_metrics(df, body_part):\n",
    "    part_df = df[df['Final BP'] == body_part]\n",
    "    part_df.reset_index(inplace=True, drop=True)\n",
    "    threshold = _threshold_finder(part_df['fracture_gt'], part_df['fracture_score'])\n",
    "    \n",
    "    TP, FP, TN, FN = perf_measure(part_df['fracture_gt'], pred_formu(part_df['fracture_score'], threshold))\n",
    "    \n",
    "    roc_auc = roc_auc_ci(part_df['fracture_gt'], part_df['fracture_score'])\n",
    "    \n",
    "    sensitivity_point_estimate, specificity_point_estimate, \\\n",
    "    sensitivity_confidence_interval, specificity_confidence_interval, \\\n",
    "    ppv_point_estimate, ppv_confidence_interval, \\\n",
    "    npv_point_estimate, npv_confidence_interval \\\n",
    "        = sensitivity_and_specificity_with_confidence_intervals(TP, FP, FN, TN, alpha=0.95)\n",
    "    \n",
    "    results_df = pd.DataFrame({\n",
    "        'Body Part': [body_part.capitalize()],\n",
    "        'Threshold': [threshold],\n",
    "        'ROC AUC': [roc_auc],\n",
    "        'Sensitivity': [sensitivity_point_estimate],\n",
    "        'Specificity': [specificity_point_estimate],\n",
    "        'Sensitivity CI': [sensitivity_confidence_interval],\n",
    "        'Specificity CI': [specificity_confidence_interval]\n",
    "    })\n",
    "    \n",
    "    return results_df\n",
    "\n",
    "all_results_df = pd.concat([calculate_metrics(erasmus_df, part) for part in tqdm(body_parts)], ignore_index=True)\n",
    "all_results_df.to_csv('Results_csv/Erasmus_performance.csv', index=False)"
   ]
  },
  {
   "cell_type": "code",
   "execution_count": 4,
   "id": "bd8c4b15",
   "metadata": {},
   "outputs": [
    {
     "name": "stderr",
     "output_type": "stream",
     "text": [
      "100%|███████████████████████████████████████████████████████████████████████████████████████████████████████████████████████████████████████████████████████████████████████| 17/17 [00:12<00:00,  1.41it/s]\n"
     ]
    }
   ],
   "source": [
    "body_part_targets = {\n",
    "    'forearm_intern': 'forearm',\n",
    "    'foot_intern': 'foot',\n",
    "    'humerus_intern': 'humerus',\n",
    "    'pelvis_intern': 'pelvis',\n",
    "    'leg_intern': 'leg',\n",
    "    'ankle_intern': 'ankle',\n",
    "    'clavicle_intern': 'clavicle',\n",
    "    'knee_intern': 'knee',\n",
    "    'fibula_intern': 'fibula tibia',\n",
    "    'femur_intern': 'femur',\n",
    "    'hip_intern': 'hip',\n",
    "    'wrist_intern': 'wrist',\n",
    "    'elbow_intern': 'elbow',\n",
    "    'hand_intern': 'hand',\n",
    "    'finger_intern': 'finger',\n",
    "    'shoulder_intern': 'shoulder',\n",
    "    'toe_intern': 'toe'\n",
    "}\n",
    "\n",
    "def calculate_metrics(df, target_col):\n",
    "    threshold = _threshold_finder(df['fracture_target'], df['fracture'])\n",
    "    TP, FP, TN, FN = perf_measure(df['fracture_target'], pred_formu(df['fracture'], threshold))\n",
    "    roc_auc = roc_auc_ci(df['fracture_target'], df['fracture'])\n",
    "    sensitivity_point_estimate, specificity_point_estimate, \\\n",
    "    sensitivity_confidence_interval, specificity_confidence_interval, \\\n",
    "    ppv_point_estimate, ppv_confidence_interval, \\\n",
    "    npv_point_estimate, npv_confidence_interval \\\n",
    "        = sensitivity_and_specificity_with_confidence_intervals(TP, FP, FN, TN, alpha=0.95)\n",
    "    \n",
    "\n",
    "    results_df = pd.DataFrame({\n",
    "        'Body Part': [target_col.capitalize()],\n",
    "        'Threshold': [threshold],\n",
    "        'ROC AUC': [roc_auc],\n",
    "        'Sensitivity': [sensitivity_point_estimate],\n",
    "        'Specificity': [specificity_point_estimate],\n",
    "        'Sensitivity CI': [sensitivity_confidence_interval],\n",
    "        'Specificity CI': [specificity_confidence_interval]\n",
    "    })\n",
    "    \n",
    "    return results_df\n",
    "\n",
    "all_results_df = pd.DataFrame()\n",
    "for df_name, target_col in tqdm(body_part_targets.items()):\n",
    "    part_df = internal_df[internal_df[target_col + '_target'] == 1].reset_index(drop=True)\n",
    "    result_df = calculate_metrics(part_df, target_col)\n",
    "    \n",
    "    all_results_df = pd.concat([all_results_df, result_df], ignore_index=True)\n",
    "\n",
    "all_results_df.to_csv('Results_csv/internal_bodypart_fracture_performance.csv', index=False)"
   ]
  },
  {
   "cell_type": "code",
   "execution_count": 5,
   "id": "56ab209c",
   "metadata": {},
   "outputs": [
    {
     "name": "stderr",
     "output_type": "stream",
     "text": [
      "100%|███████████████████████████████████████████████████████████████████████████████████████████████████████████████████████████████████████████████████████████████████████| 17/17 [05:01<00:00, 17.76s/it]\n"
     ]
    }
   ],
   "source": [
    "target_columns = [\n",
    "    'femur', 'shoulder', 'humerus', 'elbow', 'knee', 'forearm',\n",
    "    'fibula tibia', 'clavicle', 'toe', 'foot', 'wrist', 'hand',\n",
    "    'leg', 'ankle', 'hip', 'finger', 'pelvis'\n",
    "]\n",
    "\n",
    "\n",
    "def calculate_metrics(df, target_col):\n",
    "    threshold = _threshold_finder(df[target_col + '_target'], df[target_col])\n",
    "    TP, FP, TN, FN = perf_measure(df[target_col + '_target'], pred_formu(df[target_col], threshold))\n",
    "    roc_auc = roc_auc_ci(df[target_col + '_target'], df[target_col])\n",
    "    sensitivity_point_estimate, specificity_point_estimate, \\\n",
    "    sensitivity_confidence_interval, specificity_confidence_interval, \\\n",
    "    ppv_point_estimate, ppv_confidence_interval, \\\n",
    "    npv_point_estimate, npv_confidence_interval \\\n",
    "        = sensitivity_and_specificity_with_confidence_intervals(TP, FP, FN, TN, alpha=0.95)\n",
    "    results_df = pd.DataFrame({\n",
    "        'Body Part': [target_col.capitalize()],\n",
    "        'Threshold': [threshold],\n",
    "        'ROC AUC': [roc_auc],\n",
    "        'Sensitivity': [sensitivity_point_estimate],\n",
    "        'Specificity': [specificity_point_estimate],\n",
    "        'Sensitivity CI': [sensitivity_confidence_interval],\n",
    "        'Specificity CI': [specificity_confidence_interval]\n",
    "    })\n",
    "    \n",
    "    return results_df\n",
    "\n",
    "all_results_df = pd.DataFrame()\n",
    "\n",
    "for target_col in tqdm(target_columns):\n",
    "    result_df = calculate_metrics(internal_df, target_col)\n",
    "    all_results_df = pd.concat([all_results_df, result_df], ignore_index=True)\n",
    "\n",
    "all_results_df.to_csv('Results_csv/internal_body_parts_classification_performance.csv', index=False)"
   ]
  },
  {
   "cell_type": "code",
   "execution_count": 6,
   "id": "619a482a",
   "metadata": {},
   "outputs": [
    {
     "name": "stderr",
     "output_type": "stream",
     "text": [
      "100%|███████████████████████████████████████████████████████████████████████████████████████████████████████████████████████████████████████████████████████████████████████| 17/17 [00:12<00:00,  1.33it/s]\n"
     ]
    }
   ],
   "source": [
    "body_part_targets = {\n",
    "    'forearm_intern': 'forearm',\n",
    "    'foot_intern': 'foot',\n",
    "    'humerus_intern': 'humerus',\n",
    "    'pelvis_intern': 'pelvis',\n",
    "    'leg_intern': 'leg',\n",
    "    'ankle_intern': 'ankle',\n",
    "    'clavicle_intern': 'clavicle',\n",
    "    'knee_intern': 'knee',\n",
    "    'fibula_intern': 'fibula tibia',\n",
    "    'femur_intern': 'femur',\n",
    "    'hip_intern': 'hip',\n",
    "    'wrist_intern': 'wrist',\n",
    "    'elbow_intern': 'elbow',\n",
    "    'hand_intern': 'hand',\n",
    "    'finger_intern': 'finger',\n",
    "    'shoulder_intern': 'shoulder',\n",
    "    'toe_intern': 'toe'\n",
    "}\n",
    "\n",
    "def calculate_metrics(df, target_col):\n",
    "    threshold = _threshold_finder(df['treated_fracture_target'], df['treated_fracture'])\n",
    "    TP, FP, TN, FN = perf_measure(df['treated_fracture_target'], pred_formu(df['treated_fracture'], threshold))\n",
    "    roc_auc = roc_auc_ci(df['treated_fracture_target'], df['treated_fracture'])\n",
    "    sensitivity_point_estimate, specificity_point_estimate, \\\n",
    "    sensitivity_confidence_interval, specificity_confidence_interval, \\\n",
    "    ppv_point_estimate, ppv_confidence_interval, \\\n",
    "    npv_point_estimate, npv_confidence_interval \\\n",
    "        = sensitivity_and_specificity_with_confidence_intervals(TP, FP, FN, TN, alpha=0.95)\n",
    "    \n",
    "\n",
    "    results_df = pd.DataFrame({\n",
    "        'Body Part': [target_col.capitalize()],\n",
    "        'Threshold': [threshold],\n",
    "        'ROC AUC': [roc_auc],\n",
    "        'Sensitivity': [sensitivity_point_estimate],\n",
    "        'Specificity': [specificity_point_estimate],\n",
    "        'Sensitivity CI': [sensitivity_confidence_interval],\n",
    "        'Specificity CI': [specificity_confidence_interval]\n",
    "    })\n",
    "    \n",
    "    return results_df\n",
    "\n",
    "all_results_df = pd.DataFrame()\n",
    "for df_name, target_col in tqdm(body_part_targets.items()):\n",
    "    part_df = internal_df[internal_df[target_col + '_target'] == 1].reset_index(drop=True)\n",
    "    result_df = calculate_metrics(part_df, target_col)\n",
    "    \n",
    "    all_results_df = pd.concat([all_results_df, result_df], ignore_index=True)\n",
    "all_results_df.to_csv('Results_csv/internal_treated_fracture_performance.csv', index=False)"
   ]
  },
  {
   "cell_type": "code",
   "execution_count": 7,
   "id": "0dec29c2",
   "metadata": {},
   "outputs": [
    {
     "name": "stderr",
     "output_type": "stream",
     "text": [
      "100%|█████████████████████████████████████████████████████████████████████████████████████████████████████████████████████████████████████████████████████████████████████████| 4/4 [00:00<00:00, 39.20it/s]\n"
     ]
    }
   ],
   "source": [
    "target_columns = ['leg', 'hand', 'hip', 'shoulder']\n",
    "def calculate_metrics(df, target_col):\n",
    "    part_df = df[df[target_col] == 1]\n",
    "    part_df.reset_index(inplace=True, drop=True)\n",
    "    threshold = print_measures(part_df['fractured'], part_df['fracture_average'])\n",
    "    TP, FP, TN, FN = perf_measure(part_df['fractured'], pred_formu(part_df['fracture_average'], threshold))\n",
    "    roc_auc = roc_auc_ci(part_df['fractured'], part_df['fracture_average'])\n",
    "    sensitivity_point_estimate, specificity_point_estimate, \\\n",
    "    sensitivity_confidence_interval, specificity_confidence_interval, \\\n",
    "    ppv_point_estimate, ppv_confidence_interval, \\\n",
    "    npv_point_estimate, npv_confidence_interval \\\n",
    "        = sensitivity_and_specificity_with_confidence_intervals(TP, FP, FN, TN, alpha=0.95)\n",
    "    \n",
    "    results_df = pd.DataFrame({\n",
    "        'Body Part': [target_col.capitalize()],\n",
    "        'Threshold': [threshold],\n",
    "        'ROC AUC': [roc_auc],\n",
    "        'Sensitivity': [sensitivity_point_estimate],\n",
    "        'Specificity': [specificity_point_estimate],\n",
    "        'Sensitivity CI': [sensitivity_confidence_interval],\n",
    "        'Specificity CI': [specificity_confidence_interval]\n",
    "    })\n",
    "    \n",
    "    return results_df\n",
    "\n",
    "all_results_df = pd.DataFrame()\n",
    "\n",
    "for target_col in tqdm(target_columns):\n",
    "    result_df = calculate_metrics(frac_atlas, target_col)\n",
    "    all_results_df = pd.concat([all_results_df, result_df], ignore_index=True)\n",
    "\n",
    "all_results_df.to_csv('Results_csv/FracAtlas_classification_performance.csv', index=False)"
   ]
  },
  {
   "cell_type": "code",
   "execution_count": 8,
   "id": "1d550d77",
   "metadata": {},
   "outputs": [
    {
     "name": "stderr",
     "output_type": "stream",
     "text": [
      "100%|█████████████████████████████████████████████████████████████████████████████████████████████████████████████████████████████████████████████████████████████████████████| 9/9 [00:00<00:00, 13.64it/s]\n"
     ]
    }
   ],
   "source": [
    "def calculate_pediatric_metrics(df, subgroup_name):\n",
    "    threshold = print_measures(df['fracture_visible'], df['fracture_average'])\n",
    "    TP, FP, TN, FN = perf_measure(df['fracture_visible'], pred_formu(df['fracture_average'], threshold))\n",
    "    roc_auc = roc_auc_ci(df['fracture_visible'], df['fracture_average'])\n",
    "    \n",
    "    sensitivity_point_estimate, specificity_point_estimate, \\\n",
    "    sensitivity_confidence_interval, specificity_confidence_interval, \\\n",
    "    ppv_point_estimate, ppv_confidence_interval, \\\n",
    "    npv_point_estimate, npv_confidence_interval \\\n",
    "        = sensitivity_and_specificity_with_confidence_intervals(TP, FP, FN, TN, alpha=0.95)\n",
    "    \n",
    "    results_df = pd.DataFrame({\n",
    "        'Subgroup': [subgroup_name],\n",
    "        'Threshold': [threshold],\n",
    "        'ROC AUC': [roc_auc],\n",
    "        'Sensitivity': [sensitivity_point_estimate],\n",
    "        'Specificity': [specificity_point_estimate],\n",
    "        'Sensitivity CI': [sensitivity_confidence_interval],\n",
    "        'Specificity CI': [specificity_confidence_interval]\n",
    "    })\n",
    "    \n",
    "    return results_df\n",
    "\n",
    "subgroups = [\n",
    "    (paediatric_dataset[paediatric_dataset['age'] >= 10], 'More than 10 years old'),\n",
    "    (paediatric_dataset[paediatric_dataset['age'] <= 9], 'Less than 9 years old'),\n",
    "    (paediatric_dataset[paediatric_dataset['gender'] == 'M'], 'Male'),\n",
    "    (paediatric_dataset[paediatric_dataset['gender'] == 'F'], 'Female'),\n",
    "    (paediatric_dataset[paediatric_dataset['device_manufacturer'] == 'Siemens'], 'Siemens'),\n",
    "    (paediatric_dataset[paediatric_dataset['device_manufacturer'] == 'Agfa'], 'Agfa'),\n",
    "    (paediatric_dataset[paediatric_dataset['projection'] == 2], 'Lateral Projection'),\n",
    "    (paediatric_dataset[paediatric_dataset['projection'] == 1], 'PA Projection'),\n",
    "    (paediatric_dataset[paediatric_dataset['projection'] == 3], 'Oblique Projection')\n",
    "]\n",
    "\n",
    "all_pediatric_results_df = pd.DataFrame()\n",
    "\n",
    "for subgroup, name in tqdm(subgroups):\n",
    "    result_df = calculate_pediatric_metrics(subgroup.reset_index(drop=True), name)\n",
    "    all_pediatric_results_df = pd.concat([all_pediatric_results_df, result_df], ignore_index=True)\n",
    "\n",
    "all_pediatric_results_df.to_csv('Results_csv/Pediatric_Subgroups_Performance.csv', index=False)"
   ]
  }
 ],
 "metadata": {
  "kernelspec": {
   "display_name": "Python 3 (ipykernel)",
   "language": "python",
   "name": "python3"
  },
  "language_info": {
   "codemirror_mode": {
    "name": "ipython",
    "version": 3
   },
   "file_extension": ".py",
   "mimetype": "text/x-python",
   "name": "python",
   "nbconvert_exporter": "python",
   "pygments_lexer": "ipython3",
   "version": "3.10.11"
  }
 },
 "nbformat": 4,
 "nbformat_minor": 5
}
